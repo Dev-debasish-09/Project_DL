{
  "metadata": {
    "kernelspec": {
      "language": "python",
      "display_name": "Python 3",
      "name": "python3"
    },
    "language_info": {
      "name": "python",
      "version": "3.10.12",
      "mimetype": "text/x-python",
      "codemirror_mode": {
        "name": "ipython",
        "version": 3
      },
      "pygments_lexer": "ipython3",
      "nbconvert_exporter": "python",
      "file_extension": ".py"
    },
    "kaggle": {
      "accelerator": "none",
      "dataSources": [
        {
          "sourceId": 1481789,
          "sourceType": "datasetVersion",
          "datasetId": 869651
        }
      ],
      "dockerImageVersionId": 30886,
      "isInternetEnabled": false,
      "language": "python",
      "sourceType": "notebook",
      "isGpuEnabled": false
    },
    "colab": {
      "provenance": []
    }
  },
  "nbformat_minor": 0,
  "nbformat": 4,
  "cells": [
    {
      "source": [
        "# IMPORTANT: RUN THIS CELL IN ORDER TO IMPORT YOUR KAGGLE DATA SOURCES,\n",
        "# THEN FEEL FREE TO DELETE THIS CELL.\n",
        "# NOTE: THIS NOTEBOOK ENVIRONMENT DIFFERS FROM KAGGLE'S PYTHON\n",
        "# ENVIRONMENT SO THERE MAY BE MISSING LIBRARIES USED BY YOUR\n",
        "# NOTEBOOK.\n",
        "import kagglehub\n",
        "rjmanoj_credit_card_customer_churn_prediction_path = kagglehub.dataset_download('rjmanoj/credit-card-customer-churn-prediction')\n",
        "\n",
        "print('Data source import complete.')\n"
      ],
      "metadata": {
        "id": "M6BmGKR9curx"
      },
      "cell_type": "code",
      "outputs": [],
      "execution_count": null
    },
    {
      "cell_type": "code",
      "source": [
        "# This Python 3 environment comes with many helpful analytics libraries installed\n",
        "# It is defined by the kaggle/python Docker image: https://github.com/kaggle/docker-python\n",
        "# For example, here's several helpful packages to load\n",
        "\n",
        "import numpy as np # linear algebra\n",
        "import pandas as pd # data processing, CSV file I/O (e.g. pd.read_csv)\n",
        "\n",
        "# Input data files are available in the read-only \"../input/\" directory\n",
        "# For example, running this (by clicking run or pressing Shift+Enter) will list all files under the input directory\n",
        "\n",
        "import os\n",
        "for dirname, _, filenames in os.walk('/kaggle/input'):\n",
        "    for filename in filenames:\n",
        "        print(os.path.join(dirname, filename))\n",
        "\n",
        "# You can write up to 20GB to the current directory (/kaggle/working/) that gets preserved as output when you create a version using \"Save & Run All\"\n",
        "# You can also write temporary files to /kaggle/temp/, but they won't be saved outside of the current session"
      ],
      "metadata": {
        "_uuid": "8f2839f25d086af736a60e9eeb907d3b93b6e0e5",
        "_cell_guid": "b1076dfc-b9ad-4769-8c92-a6c4dae69d19",
        "trusted": true,
        "execution": {
          "iopub.status.busy": "2025-02-18T13:49:29.035368Z",
          "iopub.execute_input": "2025-02-18T13:49:29.03571Z",
          "iopub.status.idle": "2025-02-18T13:49:30.287129Z",
          "shell.execute_reply.started": "2025-02-18T13:49:29.035672Z",
          "shell.execute_reply": "2025-02-18T13:49:30.285691Z"
        },
        "id": "OGd2XDgtcurz",
        "outputId": "36b9bc0f-c156-4ce3-e334-244e87c792e9"
      },
      "outputs": [
        {
          "name": "stdout",
          "text": "/kaggle/input/credit-card-customer-churn-prediction/Churn_Modelling.csv\n",
          "output_type": "stream"
        }
      ],
      "execution_count": null
    },
    {
      "cell_type": "code",
      "source": [
        "df = pd.read_csv('/kaggle/input/credit-card-customer-churn-prediction/Churn_Modelling.csv')"
      ],
      "metadata": {
        "trusted": true,
        "execution": {
          "iopub.status.busy": "2025-02-18T13:50:10.062173Z",
          "iopub.execute_input": "2025-02-18T13:50:10.06255Z",
          "iopub.status.idle": "2025-02-18T13:50:10.113946Z",
          "shell.execute_reply.started": "2025-02-18T13:50:10.062522Z",
          "shell.execute_reply": "2025-02-18T13:50:10.112847Z"
        },
        "id": "Jpgg9LkBcur1"
      },
      "outputs": [],
      "execution_count": null
    },
    {
      "cell_type": "code",
      "source": [
        "df.head()"
      ],
      "metadata": {
        "trusted": true,
        "execution": {
          "iopub.status.busy": "2025-02-18T13:50:18.095898Z",
          "iopub.execute_input": "2025-02-18T13:50:18.096394Z",
          "iopub.status.idle": "2025-02-18T13:50:18.131764Z",
          "shell.execute_reply.started": "2025-02-18T13:50:18.096357Z",
          "shell.execute_reply": "2025-02-18T13:50:18.130542Z"
        },
        "id": "wdbwds3Ocur2",
        "outputId": "e6cc956f-00d8-4a9b-94f2-c2399eeb8c28"
      },
      "outputs": [
        {
          "execution_count": 3,
          "output_type": "execute_result",
          "data": {
            "text/plain": "   RowNumber  CustomerId   Surname  CreditScore Geography  Gender  Age  \\\n0          1    15634602  Hargrave          619    France  Female   42   \n1          2    15647311      Hill          608     Spain  Female   41   \n2          3    15619304      Onio          502    France  Female   42   \n3          4    15701354      Boni          699    France  Female   39   \n4          5    15737888  Mitchell          850     Spain  Female   43   \n\n   Tenure    Balance  NumOfProducts  HasCrCard  IsActiveMember  \\\n0       2       0.00              1          1               1   \n1       1   83807.86              1          0               1   \n2       8  159660.80              3          1               0   \n3       1       0.00              2          0               0   \n4       2  125510.82              1          1               1   \n\n   EstimatedSalary  Exited  \n0        101348.88       1  \n1        112542.58       0  \n2        113931.57       1  \n3         93826.63       0  \n4         79084.10       0  ",
            "text/html": "<div>\n<style scoped>\n    .dataframe tbody tr th:only-of-type {\n        vertical-align: middle;\n    }\n\n    .dataframe tbody tr th {\n        vertical-align: top;\n    }\n\n    .dataframe thead th {\n        text-align: right;\n    }\n</style>\n<table border=\"1\" class=\"dataframe\">\n  <thead>\n    <tr style=\"text-align: right;\">\n      <th></th>\n      <th>RowNumber</th>\n      <th>CustomerId</th>\n      <th>Surname</th>\n      <th>CreditScore</th>\n      <th>Geography</th>\n      <th>Gender</th>\n      <th>Age</th>\n      <th>Tenure</th>\n      <th>Balance</th>\n      <th>NumOfProducts</th>\n      <th>HasCrCard</th>\n      <th>IsActiveMember</th>\n      <th>EstimatedSalary</th>\n      <th>Exited</th>\n    </tr>\n  </thead>\n  <tbody>\n    <tr>\n      <th>0</th>\n      <td>1</td>\n      <td>15634602</td>\n      <td>Hargrave</td>\n      <td>619</td>\n      <td>France</td>\n      <td>Female</td>\n      <td>42</td>\n      <td>2</td>\n      <td>0.00</td>\n      <td>1</td>\n      <td>1</td>\n      <td>1</td>\n      <td>101348.88</td>\n      <td>1</td>\n    </tr>\n    <tr>\n      <th>1</th>\n      <td>2</td>\n      <td>15647311</td>\n      <td>Hill</td>\n      <td>608</td>\n      <td>Spain</td>\n      <td>Female</td>\n      <td>41</td>\n      <td>1</td>\n      <td>83807.86</td>\n      <td>1</td>\n      <td>0</td>\n      <td>1</td>\n      <td>112542.58</td>\n      <td>0</td>\n    </tr>\n    <tr>\n      <th>2</th>\n      <td>3</td>\n      <td>15619304</td>\n      <td>Onio</td>\n      <td>502</td>\n      <td>France</td>\n      <td>Female</td>\n      <td>42</td>\n      <td>8</td>\n      <td>159660.80</td>\n      <td>3</td>\n      <td>1</td>\n      <td>0</td>\n      <td>113931.57</td>\n      <td>1</td>\n    </tr>\n    <tr>\n      <th>3</th>\n      <td>4</td>\n      <td>15701354</td>\n      <td>Boni</td>\n      <td>699</td>\n      <td>France</td>\n      <td>Female</td>\n      <td>39</td>\n      <td>1</td>\n      <td>0.00</td>\n      <td>2</td>\n      <td>0</td>\n      <td>0</td>\n      <td>93826.63</td>\n      <td>0</td>\n    </tr>\n    <tr>\n      <th>4</th>\n      <td>5</td>\n      <td>15737888</td>\n      <td>Mitchell</td>\n      <td>850</td>\n      <td>Spain</td>\n      <td>Female</td>\n      <td>43</td>\n      <td>2</td>\n      <td>125510.82</td>\n      <td>1</td>\n      <td>1</td>\n      <td>1</td>\n      <td>79084.10</td>\n      <td>0</td>\n    </tr>\n  </tbody>\n</table>\n</div>"
          },
          "metadata": {}
        }
      ],
      "execution_count": null
    },
    {
      "cell_type": "code",
      "source": [
        "df.info()"
      ],
      "metadata": {
        "trusted": true,
        "execution": {
          "iopub.status.busy": "2025-02-18T13:50:32.018168Z",
          "iopub.execute_input": "2025-02-18T13:50:32.018602Z",
          "iopub.status.idle": "2025-02-18T13:50:32.050922Z",
          "shell.execute_reply.started": "2025-02-18T13:50:32.01857Z",
          "shell.execute_reply": "2025-02-18T13:50:32.04964Z"
        },
        "id": "iD3wALAQcur3",
        "outputId": "b0a4fb4c-6134-404a-a772-4c16a078ed80"
      },
      "outputs": [
        {
          "name": "stdout",
          "text": "<class 'pandas.core.frame.DataFrame'>\nRangeIndex: 10000 entries, 0 to 9999\nData columns (total 14 columns):\n #   Column           Non-Null Count  Dtype  \n---  ------           --------------  -----  \n 0   RowNumber        10000 non-null  int64  \n 1   CustomerId       10000 non-null  int64  \n 2   Surname          10000 non-null  object \n 3   CreditScore      10000 non-null  int64  \n 4   Geography        10000 non-null  object \n 5   Gender           10000 non-null  object \n 6   Age              10000 non-null  int64  \n 7   Tenure           10000 non-null  int64  \n 8   Balance          10000 non-null  float64\n 9   NumOfProducts    10000 non-null  int64  \n 10  HasCrCard        10000 non-null  int64  \n 11  IsActiveMember   10000 non-null  int64  \n 12  EstimatedSalary  10000 non-null  float64\n 13  Exited           10000 non-null  int64  \ndtypes: float64(2), int64(9), object(3)\nmemory usage: 1.1+ MB\n",
          "output_type": "stream"
        }
      ],
      "execution_count": null
    },
    {
      "cell_type": "code",
      "source": [
        "df = df.drop(columns=['RowNumber','CustomerId','Surname'])"
      ],
      "metadata": {
        "trusted": true,
        "execution": {
          "iopub.status.busy": "2025-02-18T13:52:39.913868Z",
          "iopub.execute_input": "2025-02-18T13:52:39.914294Z",
          "iopub.status.idle": "2025-02-18T13:52:39.923707Z",
          "shell.execute_reply.started": "2025-02-18T13:52:39.91426Z",
          "shell.execute_reply": "2025-02-18T13:52:39.922398Z"
        },
        "id": "0pBKR8nAcur3"
      },
      "outputs": [],
      "execution_count": null
    },
    {
      "cell_type": "code",
      "source": [
        "df.head()"
      ],
      "metadata": {
        "trusted": true,
        "execution": {
          "iopub.status.busy": "2025-02-18T13:52:45.998726Z",
          "iopub.execute_input": "2025-02-18T13:52:45.99916Z",
          "iopub.status.idle": "2025-02-18T13:52:46.012586Z",
          "shell.execute_reply.started": "2025-02-18T13:52:45.99912Z",
          "shell.execute_reply": "2025-02-18T13:52:46.011616Z"
        },
        "id": "8RRw59Utcur4",
        "outputId": "45ce7878-597e-4464-975e-ec1bca4a26f0"
      },
      "outputs": [
        {
          "execution_count": 6,
          "output_type": "execute_result",
          "data": {
            "text/plain": "   CreditScore Geography  Gender  Age  Tenure    Balance  NumOfProducts  \\\n0          619    France  Female   42       2       0.00              1   \n1          608     Spain  Female   41       1   83807.86              1   \n2          502    France  Female   42       8  159660.80              3   \n3          699    France  Female   39       1       0.00              2   \n4          850     Spain  Female   43       2  125510.82              1   \n\n   HasCrCard  IsActiveMember  EstimatedSalary  Exited  \n0          1               1        101348.88       1  \n1          0               1        112542.58       0  \n2          1               0        113931.57       1  \n3          0               0         93826.63       0  \n4          1               1         79084.10       0  ",
            "text/html": "<div>\n<style scoped>\n    .dataframe tbody tr th:only-of-type {\n        vertical-align: middle;\n    }\n\n    .dataframe tbody tr th {\n        vertical-align: top;\n    }\n\n    .dataframe thead th {\n        text-align: right;\n    }\n</style>\n<table border=\"1\" class=\"dataframe\">\n  <thead>\n    <tr style=\"text-align: right;\">\n      <th></th>\n      <th>CreditScore</th>\n      <th>Geography</th>\n      <th>Gender</th>\n      <th>Age</th>\n      <th>Tenure</th>\n      <th>Balance</th>\n      <th>NumOfProducts</th>\n      <th>HasCrCard</th>\n      <th>IsActiveMember</th>\n      <th>EstimatedSalary</th>\n      <th>Exited</th>\n    </tr>\n  </thead>\n  <tbody>\n    <tr>\n      <th>0</th>\n      <td>619</td>\n      <td>France</td>\n      <td>Female</td>\n      <td>42</td>\n      <td>2</td>\n      <td>0.00</td>\n      <td>1</td>\n      <td>1</td>\n      <td>1</td>\n      <td>101348.88</td>\n      <td>1</td>\n    </tr>\n    <tr>\n      <th>1</th>\n      <td>608</td>\n      <td>Spain</td>\n      <td>Female</td>\n      <td>41</td>\n      <td>1</td>\n      <td>83807.86</td>\n      <td>1</td>\n      <td>0</td>\n      <td>1</td>\n      <td>112542.58</td>\n      <td>0</td>\n    </tr>\n    <tr>\n      <th>2</th>\n      <td>502</td>\n      <td>France</td>\n      <td>Female</td>\n      <td>42</td>\n      <td>8</td>\n      <td>159660.80</td>\n      <td>3</td>\n      <td>1</td>\n      <td>0</td>\n      <td>113931.57</td>\n      <td>1</td>\n    </tr>\n    <tr>\n      <th>3</th>\n      <td>699</td>\n      <td>France</td>\n      <td>Female</td>\n      <td>39</td>\n      <td>1</td>\n      <td>0.00</td>\n      <td>2</td>\n      <td>0</td>\n      <td>0</td>\n      <td>93826.63</td>\n      <td>0</td>\n    </tr>\n    <tr>\n      <th>4</th>\n      <td>850</td>\n      <td>Spain</td>\n      <td>Female</td>\n      <td>43</td>\n      <td>2</td>\n      <td>125510.82</td>\n      <td>1</td>\n      <td>1</td>\n      <td>1</td>\n      <td>79084.10</td>\n      <td>0</td>\n    </tr>\n  </tbody>\n</table>\n</div>"
          },
          "metadata": {}
        }
      ],
      "execution_count": null
    },
    {
      "cell_type": "code",
      "source": [
        "df = pd.get_dummies(df,columns=['Geography','Gender'],drop_first=True)"
      ],
      "metadata": {
        "trusted": true,
        "execution": {
          "iopub.status.busy": "2025-02-18T13:54:17.649782Z",
          "iopub.execute_input": "2025-02-18T13:54:17.650248Z",
          "iopub.status.idle": "2025-02-18T13:54:17.665502Z",
          "shell.execute_reply.started": "2025-02-18T13:54:17.650192Z",
          "shell.execute_reply": "2025-02-18T13:54:17.663344Z"
        },
        "id": "QEycGtdScur5"
      },
      "outputs": [],
      "execution_count": null
    },
    {
      "cell_type": "code",
      "source": [
        "df.head()"
      ],
      "metadata": {
        "trusted": true,
        "execution": {
          "iopub.status.busy": "2025-02-18T13:54:23.569713Z",
          "iopub.execute_input": "2025-02-18T13:54:23.570194Z",
          "iopub.status.idle": "2025-02-18T13:54:23.585653Z",
          "shell.execute_reply.started": "2025-02-18T13:54:23.57016Z",
          "shell.execute_reply": "2025-02-18T13:54:23.584097Z"
        },
        "id": "WYeSTMYkcur6",
        "outputId": "cdce4939-f414-4ab4-ecff-f76c78bc8ef9"
      },
      "outputs": [
        {
          "execution_count": 9,
          "output_type": "execute_result",
          "data": {
            "text/plain": "   CreditScore  Age  Tenure    Balance  NumOfProducts  HasCrCard  \\\n0          619   42       2       0.00              1          1   \n1          608   41       1   83807.86              1          0   \n2          502   42       8  159660.80              3          1   \n3          699   39       1       0.00              2          0   \n4          850   43       2  125510.82              1          1   \n\n   IsActiveMember  EstimatedSalary  Exited  Geography_Germany  \\\n0               1        101348.88       1              False   \n1               1        112542.58       0              False   \n2               0        113931.57       1              False   \n3               0         93826.63       0              False   \n4               1         79084.10       0              False   \n\n   Geography_Spain  Gender_Male  \n0            False        False  \n1             True        False  \n2            False        False  \n3            False        False  \n4             True        False  ",
            "text/html": "<div>\n<style scoped>\n    .dataframe tbody tr th:only-of-type {\n        vertical-align: middle;\n    }\n\n    .dataframe tbody tr th {\n        vertical-align: top;\n    }\n\n    .dataframe thead th {\n        text-align: right;\n    }\n</style>\n<table border=\"1\" class=\"dataframe\">\n  <thead>\n    <tr style=\"text-align: right;\">\n      <th></th>\n      <th>CreditScore</th>\n      <th>Age</th>\n      <th>Tenure</th>\n      <th>Balance</th>\n      <th>NumOfProducts</th>\n      <th>HasCrCard</th>\n      <th>IsActiveMember</th>\n      <th>EstimatedSalary</th>\n      <th>Exited</th>\n      <th>Geography_Germany</th>\n      <th>Geography_Spain</th>\n      <th>Gender_Male</th>\n    </tr>\n  </thead>\n  <tbody>\n    <tr>\n      <th>0</th>\n      <td>619</td>\n      <td>42</td>\n      <td>2</td>\n      <td>0.00</td>\n      <td>1</td>\n      <td>1</td>\n      <td>1</td>\n      <td>101348.88</td>\n      <td>1</td>\n      <td>False</td>\n      <td>False</td>\n      <td>False</td>\n    </tr>\n    <tr>\n      <th>1</th>\n      <td>608</td>\n      <td>41</td>\n      <td>1</td>\n      <td>83807.86</td>\n      <td>1</td>\n      <td>0</td>\n      <td>1</td>\n      <td>112542.58</td>\n      <td>0</td>\n      <td>False</td>\n      <td>True</td>\n      <td>False</td>\n    </tr>\n    <tr>\n      <th>2</th>\n      <td>502</td>\n      <td>42</td>\n      <td>8</td>\n      <td>159660.80</td>\n      <td>3</td>\n      <td>1</td>\n      <td>0</td>\n      <td>113931.57</td>\n      <td>1</td>\n      <td>False</td>\n      <td>False</td>\n      <td>False</td>\n    </tr>\n    <tr>\n      <th>3</th>\n      <td>699</td>\n      <td>39</td>\n      <td>1</td>\n      <td>0.00</td>\n      <td>2</td>\n      <td>0</td>\n      <td>0</td>\n      <td>93826.63</td>\n      <td>0</td>\n      <td>False</td>\n      <td>False</td>\n      <td>False</td>\n    </tr>\n    <tr>\n      <th>4</th>\n      <td>850</td>\n      <td>43</td>\n      <td>2</td>\n      <td>125510.82</td>\n      <td>1</td>\n      <td>1</td>\n      <td>1</td>\n      <td>79084.10</td>\n      <td>0</td>\n      <td>False</td>\n      <td>True</td>\n      <td>False</td>\n    </tr>\n  </tbody>\n</table>\n</div>"
          },
          "metadata": {}
        }
      ],
      "execution_count": null
    },
    {
      "cell_type": "code",
      "source": [
        "x = df.drop(columns=['Exited'])\n",
        "y = df['Exited']\n",
        "from sklearn.model_selection import train_test_split\n",
        "x_train,x_test,y_train,y_test = train_test_split(x,y,test_size=0.2)"
      ],
      "metadata": {
        "trusted": true,
        "execution": {
          "iopub.status.busy": "2025-02-18T14:21:01.083309Z",
          "iopub.execute_input": "2025-02-18T14:21:01.083652Z",
          "iopub.status.idle": "2025-02-18T14:21:01.094569Z",
          "shell.execute_reply.started": "2025-02-18T14:21:01.083624Z",
          "shell.execute_reply": "2025-02-18T14:21:01.093101Z"
        },
        "id": "jC7jowJCcur6"
      },
      "outputs": [],
      "execution_count": null
    },
    {
      "cell_type": "code",
      "source": [
        "from sklearn.preprocessing import StandardScaler\n",
        "scaler = StandardScaler()\n",
        "x_train_scale = scaler.fit_transform(x_train)\n",
        "x_test_sclae = scaler.transform(x_test)"
      ],
      "metadata": {
        "trusted": true,
        "execution": {
          "iopub.status.busy": "2025-02-18T14:21:03.423404Z",
          "iopub.execute_input": "2025-02-18T14:21:03.423814Z",
          "iopub.status.idle": "2025-02-18T14:21:03.449357Z",
          "shell.execute_reply.started": "2025-02-18T14:21:03.42377Z",
          "shell.execute_reply": "2025-02-18T14:21:03.447359Z"
        },
        "id": "L3gUjt0Ecur7"
      },
      "outputs": [],
      "execution_count": null
    },
    {
      "cell_type": "code",
      "source": [
        "x_train_scale"
      ],
      "metadata": {
        "trusted": true,
        "execution": {
          "iopub.status.busy": "2025-02-18T14:00:18.454131Z",
          "iopub.execute_input": "2025-02-18T14:00:18.454538Z",
          "iopub.status.idle": "2025-02-18T14:00:18.461944Z",
          "shell.execute_reply.started": "2025-02-18T14:00:18.454505Z",
          "shell.execute_reply": "2025-02-18T14:00:18.460562Z"
        },
        "id": "i8mDz5klcur7",
        "outputId": "585c2721-7451-41c1-ddcb-9c5c755cbc0a"
      },
      "outputs": [
        {
          "execution_count": 15,
          "output_type": "execute_result",
          "data": {
            "text/plain": "array([[ 0.2672956 ,  0.20168746, -0.35518119, ..., -0.57812007,\n        -0.57638802, -1.09278791],\n       [-0.57172973,  1.3452025 ,  0.68399332, ..., -0.57812007,\n        -0.57638802, -1.09278791],\n       [ 0.41231233,  0.10639454,  1.37677633, ..., -0.57812007,\n        -0.57638802, -1.09278791],\n       ...,\n       [-1.55577179, -0.46536297, -0.35518119, ..., -0.57812007,\n        -0.57638802, -1.09278791],\n       [-1.06892993,  0.96403082,  1.03038482, ...,  1.72974448,\n        -0.57638802,  0.91509065],\n       [-0.44742968,  0.01110163, -1.04796419, ...,  1.72974448,\n        -0.57638802,  0.91509065]])"
          },
          "metadata": {}
        }
      ],
      "execution_count": null
    },
    {
      "cell_type": "code",
      "source": [
        "import tensorflow\n",
        "from tensorflow import keras\n",
        "from tensorflow.keras import Sequential\n",
        "from tensorflow.keras.layers import Dense"
      ],
      "metadata": {
        "trusted": true,
        "execution": {
          "iopub.status.busy": "2025-02-18T14:01:38.550894Z",
          "iopub.execute_input": "2025-02-18T14:01:38.551329Z",
          "iopub.status.idle": "2025-02-18T14:01:55.745308Z",
          "shell.execute_reply.started": "2025-02-18T14:01:38.551293Z",
          "shell.execute_reply": "2025-02-18T14:01:55.744164Z"
        },
        "id": "H3B58PkHcur8"
      },
      "outputs": [],
      "execution_count": null
    },
    {
      "cell_type": "code",
      "source": [
        "model = Sequential()\n",
        "\n",
        "model.add(Dense(3,activation = 'sigmoid',input_dim=11))\n",
        "model.add(Dense(1,activation='sigmoid'))"
      ],
      "metadata": {
        "trusted": true,
        "execution": {
          "iopub.status.busy": "2025-02-18T14:14:02.557331Z",
          "iopub.execute_input": "2025-02-18T14:14:02.557653Z",
          "iopub.status.idle": "2025-02-18T14:14:02.651588Z",
          "shell.execute_reply.started": "2025-02-18T14:14:02.557629Z",
          "shell.execute_reply": "2025-02-18T14:14:02.650469Z"
        },
        "id": "zUBG0MfGcur8"
      },
      "outputs": [],
      "execution_count": null
    },
    {
      "cell_type": "code",
      "source": [
        "model.summary()"
      ],
      "metadata": {
        "trusted": true,
        "execution": {
          "iopub.status.busy": "2025-02-18T14:14:19.686728Z",
          "iopub.execute_input": "2025-02-18T14:14:19.687097Z",
          "iopub.status.idle": "2025-02-18T14:14:19.705486Z",
          "shell.execute_reply.started": "2025-02-18T14:14:19.687066Z",
          "shell.execute_reply": "2025-02-18T14:14:19.704194Z"
        },
        "id": "WdncJj5lcur8",
        "outputId": "1703b960-c20e-4c23-83c3-bb6e3300b687"
      },
      "outputs": [
        {
          "output_type": "display_data",
          "data": {
            "text/plain": "\u001b[1mModel: \"sequential_1\"\u001b[0m\n",
            "text/html": "<pre style=\"white-space:pre;overflow-x:auto;line-height:normal;font-family:Menlo,'DejaVu Sans Mono',consolas,'Courier New',monospace\"><span style=\"font-weight: bold\">Model: \"sequential_1\"</span>\n</pre>\n"
          },
          "metadata": {}
        },
        {
          "output_type": "display_data",
          "data": {
            "text/plain": "┏━━━━━━━━━━━━━━━━━━━━━━━━━━━━━━━━━━━━━━┳━━━━━━━━━━━━━━━━━━━━━━━━━━━━━┳━━━━━━━━━━━━━━━━━┓\n┃\u001b[1m \u001b[0m\u001b[1mLayer (type)                        \u001b[0m\u001b[1m \u001b[0m┃\u001b[1m \u001b[0m\u001b[1mOutput Shape               \u001b[0m\u001b[1m \u001b[0m┃\u001b[1m \u001b[0m\u001b[1m        Param #\u001b[0m\u001b[1m \u001b[0m┃\n┡━━━━━━━━━━━━━━━━━━━━━━━━━━━━━━━━━━━━━━╇━━━━━━━━━━━━━━━━━━━━━━━━━━━━━╇━━━━━━━━━━━━━━━━━┩\n│ dense_1 (\u001b[38;5;33mDense\u001b[0m)                      │ (\u001b[38;5;45mNone\u001b[0m, \u001b[38;5;34m3\u001b[0m)                   │              \u001b[38;5;34m36\u001b[0m │\n├──────────────────────────────────────┼─────────────────────────────┼─────────────────┤\n│ dense_2 (\u001b[38;5;33mDense\u001b[0m)                      │ (\u001b[38;5;45mNone\u001b[0m, \u001b[38;5;34m1\u001b[0m)                   │               \u001b[38;5;34m4\u001b[0m │\n└──────────────────────────────────────┴─────────────────────────────┴─────────────────┘\n",
            "text/html": "<pre style=\"white-space:pre;overflow-x:auto;line-height:normal;font-family:Menlo,'DejaVu Sans Mono',consolas,'Courier New',monospace\">┏━━━━━━━━━━━━━━━━━━━━━━━━━━━━━━━━━━━━━━┳━━━━━━━━━━━━━━━━━━━━━━━━━━━━━┳━━━━━━━━━━━━━━━━━┓\n┃<span style=\"font-weight: bold\"> Layer (type)                         </span>┃<span style=\"font-weight: bold\"> Output Shape                </span>┃<span style=\"font-weight: bold\">         Param # </span>┃\n┡━━━━━━━━━━━━━━━━━━━━━━━━━━━━━━━━━━━━━━╇━━━━━━━━━━━━━━━━━━━━━━━━━━━━━╇━━━━━━━━━━━━━━━━━┩\n│ dense_1 (<span style=\"color: #0087ff; text-decoration-color: #0087ff\">Dense</span>)                      │ (<span style=\"color: #00d7ff; text-decoration-color: #00d7ff\">None</span>, <span style=\"color: #00af00; text-decoration-color: #00af00\">3</span>)                   │              <span style=\"color: #00af00; text-decoration-color: #00af00\">36</span> │\n├──────────────────────────────────────┼─────────────────────────────┼─────────────────┤\n│ dense_2 (<span style=\"color: #0087ff; text-decoration-color: #0087ff\">Dense</span>)                      │ (<span style=\"color: #00d7ff; text-decoration-color: #00d7ff\">None</span>, <span style=\"color: #00af00; text-decoration-color: #00af00\">1</span>)                   │               <span style=\"color: #00af00; text-decoration-color: #00af00\">4</span> │\n└──────────────────────────────────────┴─────────────────────────────┴─────────────────┘\n</pre>\n"
          },
          "metadata": {}
        },
        {
          "output_type": "display_data",
          "data": {
            "text/plain": "\u001b[1m Total params: \u001b[0m\u001b[38;5;34m40\u001b[0m (160.00 B)\n",
            "text/html": "<pre style=\"white-space:pre;overflow-x:auto;line-height:normal;font-family:Menlo,'DejaVu Sans Mono',consolas,'Courier New',monospace\"><span style=\"font-weight: bold\"> Total params: </span><span style=\"color: #00af00; text-decoration-color: #00af00\">40</span> (160.00 B)\n</pre>\n"
          },
          "metadata": {}
        },
        {
          "output_type": "display_data",
          "data": {
            "text/plain": "\u001b[1m Trainable params: \u001b[0m\u001b[38;5;34m40\u001b[0m (160.00 B)\n",
            "text/html": "<pre style=\"white-space:pre;overflow-x:auto;line-height:normal;font-family:Menlo,'DejaVu Sans Mono',consolas,'Courier New',monospace\"><span style=\"font-weight: bold\"> Trainable params: </span><span style=\"color: #00af00; text-decoration-color: #00af00\">40</span> (160.00 B)\n</pre>\n"
          },
          "metadata": {}
        },
        {
          "output_type": "display_data",
          "data": {
            "text/plain": "\u001b[1m Non-trainable params: \u001b[0m\u001b[38;5;34m0\u001b[0m (0.00 B)\n",
            "text/html": "<pre style=\"white-space:pre;overflow-x:auto;line-height:normal;font-family:Menlo,'DejaVu Sans Mono',consolas,'Courier New',monospace\"><span style=\"font-weight: bold\"> Non-trainable params: </span><span style=\"color: #00af00; text-decoration-color: #00af00\">0</span> (0.00 B)\n</pre>\n"
          },
          "metadata": {}
        }
      ],
      "execution_count": null
    },
    {
      "cell_type": "code",
      "source": [
        "model.compile(loss='binary_crossentropy',optimizer='Adam')"
      ],
      "metadata": {
        "trusted": true,
        "execution": {
          "iopub.status.busy": "2025-02-18T14:16:54.305096Z",
          "iopub.execute_input": "2025-02-18T14:16:54.305538Z",
          "iopub.status.idle": "2025-02-18T14:16:54.325705Z",
          "shell.execute_reply.started": "2025-02-18T14:16:54.305506Z",
          "shell.execute_reply": "2025-02-18T14:16:54.324558Z"
        },
        "id": "wYH5ENgecur9"
      },
      "outputs": [],
      "execution_count": null
    },
    {
      "cell_type": "code",
      "source": [
        "model.fit(x_train_scale,y_train,epochs=10)"
      ],
      "metadata": {
        "trusted": true,
        "execution": {
          "iopub.status.busy": "2025-02-18T14:21:12.279278Z",
          "iopub.execute_input": "2025-02-18T14:21:12.279636Z",
          "iopub.status.idle": "2025-02-18T14:21:15.948107Z",
          "shell.execute_reply.started": "2025-02-18T14:21:12.279605Z",
          "shell.execute_reply": "2025-02-18T14:21:15.946961Z"
        },
        "id": "J2ylIEVfcur9",
        "outputId": "e5a4e69f-41c6-429f-8705-c192fe78846a"
      },
      "outputs": [
        {
          "name": "stdout",
          "text": "Epoch 1/10\n\u001b[1m250/250\u001b[0m \u001b[32m━━━━━━━━━━━━━━━━━━━━\u001b[0m\u001b[37m\u001b[0m \u001b[1m0s\u001b[0m 1ms/step - loss: 0.4454\nEpoch 2/10\n\u001b[1m250/250\u001b[0m \u001b[32m━━━━━━━━━━━━━━━━━━━━\u001b[0m\u001b[37m\u001b[0m \u001b[1m0s\u001b[0m 1ms/step - loss: 0.4294\nEpoch 3/10\n\u001b[1m250/250\u001b[0m \u001b[32m━━━━━━━━━━━━━━━━━━━━\u001b[0m\u001b[37m\u001b[0m \u001b[1m0s\u001b[0m 1ms/step - loss: 0.4376\nEpoch 4/10\n\u001b[1m250/250\u001b[0m \u001b[32m━━━━━━━━━━━━━━━━━━━━\u001b[0m\u001b[37m\u001b[0m \u001b[1m0s\u001b[0m 1ms/step - loss: 0.4352\nEpoch 5/10\n\u001b[1m250/250\u001b[0m \u001b[32m━━━━━━━━━━━━━━━━━━━━\u001b[0m\u001b[37m\u001b[0m \u001b[1m0s\u001b[0m 1ms/step - loss: 0.4250\nEpoch 6/10\n\u001b[1m250/250\u001b[0m \u001b[32m━━━━━━━━━━━━━━━━━━━━\u001b[0m\u001b[37m\u001b[0m \u001b[1m0s\u001b[0m 1ms/step - loss: 0.4178\nEpoch 7/10\n\u001b[1m250/250\u001b[0m \u001b[32m━━━━━━━━━━━━━━━━━━━━\u001b[0m\u001b[37m\u001b[0m \u001b[1m0s\u001b[0m 1ms/step - loss: 0.4243\nEpoch 8/10\n\u001b[1m250/250\u001b[0m \u001b[32m━━━━━━━━━━━━━━━━━━━━\u001b[0m\u001b[37m\u001b[0m \u001b[1m0s\u001b[0m 1ms/step - loss: 0.4226\nEpoch 9/10\n\u001b[1m250/250\u001b[0m \u001b[32m━━━━━━━━━━━━━━━━━━━━\u001b[0m\u001b[37m\u001b[0m \u001b[1m0s\u001b[0m 1ms/step - loss: 0.4260\nEpoch 10/10\n\u001b[1m250/250\u001b[0m \u001b[32m━━━━━━━━━━━━━━━━━━━━\u001b[0m\u001b[37m\u001b[0m \u001b[1m0s\u001b[0m 1ms/step - loss: 0.4262\n",
          "output_type": "stream"
        },
        {
          "execution_count": 36,
          "output_type": "execute_result",
          "data": {
            "text/plain": "<keras.src.callbacks.history.History at 0x79c123111db0>"
          },
          "metadata": {}
        }
      ],
      "execution_count": null
    },
    {
      "cell_type": "code",
      "source": [
        "model.layers[0].get_weights()"
      ],
      "metadata": {
        "trusted": true,
        "execution": {
          "iopub.status.busy": "2025-02-18T14:21:17.806Z",
          "iopub.execute_input": "2025-02-18T14:21:17.806583Z",
          "iopub.status.idle": "2025-02-18T14:21:17.816094Z",
          "shell.execute_reply.started": "2025-02-18T14:21:17.806539Z",
          "shell.execute_reply": "2025-02-18T14:21:17.814836Z"
        },
        "id": "VNtvTtTFcur9",
        "outputId": "089572e1-7bfd-43a0-a473-92069c39e5fa"
      },
      "outputs": [
        {
          "execution_count": 37,
          "output_type": "execute_result",
          "data": {
            "text/plain": "[array([[ 0.0503454 , -0.07693776,  0.24250855],\n        [-1.7353643 ,  2.5677366 ,  0.07848008],\n        [ 0.08487941, -0.07576443,  0.11729369],\n        [-0.3841759 ,  0.12768984, -0.02803776],\n        [-0.24161467,  0.12595926,  2.2619464 ],\n        [ 0.00603719,  0.08823412,  0.22865786],\n        [ 0.874951  , -0.4050504 ,  0.76817006],\n        [-0.08163267,  0.06275897,  0.14569946],\n        [-0.66491294,  0.62847626, -0.2775924 ],\n        [ 0.20479497, -0.02940377, -0.17668574],\n        [ 0.543905  , -0.37645   ,  0.21213196]], dtype=float32),\n array([ 0.85528225, -0.51022124,  0.51419735], dtype=float32)]"
          },
          "metadata": {}
        }
      ],
      "execution_count": null
    },
    {
      "cell_type": "code",
      "source": [
        "model.layers[1].get_weights()"
      ],
      "metadata": {
        "trusted": true,
        "execution": {
          "iopub.status.busy": "2025-02-18T14:21:20.579583Z",
          "iopub.execute_input": "2025-02-18T14:21:20.579975Z",
          "iopub.status.idle": "2025-02-18T14:21:20.589249Z",
          "shell.execute_reply.started": "2025-02-18T14:21:20.57994Z",
          "shell.execute_reply": "2025-02-18T14:21:20.587843Z"
        },
        "id": "S5HPIMy_cur9",
        "outputId": "7725c76c-7be7-4545-db65-cf95b8ae84cd"
      },
      "outputs": [
        {
          "execution_count": 38,
          "output_type": "execute_result",
          "data": {
            "text/plain": "[array([[-1.432669  ],\n        [ 1.3488083 ],\n        [-0.79460824]], dtype=float32),\n array([-0.83833987], dtype=float32)]"
          },
          "metadata": {}
        }
      ],
      "execution_count": null
    },
    {
      "cell_type": "code",
      "source": [
        "y_log = model.predict(x_test_sclae)"
      ],
      "metadata": {
        "trusted": true,
        "execution": {
          "iopub.status.busy": "2025-02-18T14:22:34.658625Z",
          "iopub.execute_input": "2025-02-18T14:22:34.65903Z",
          "iopub.status.idle": "2025-02-18T14:22:34.844414Z",
          "shell.execute_reply.started": "2025-02-18T14:22:34.658984Z",
          "shell.execute_reply": "2025-02-18T14:22:34.843175Z"
        },
        "id": "2r5U1t66cur-",
        "outputId": "3d80cc4c-aaeb-4ae8-f530-85defa11acb2"
      },
      "outputs": [
        {
          "name": "stdout",
          "text": "\u001b[1m63/63\u001b[0m \u001b[32m━━━━━━━━━━━━━━━━━━━━\u001b[0m\u001b[37m\u001b[0m \u001b[1m0s\u001b[0m 1ms/step\n",
          "output_type": "stream"
        }
      ],
      "execution_count": null
    },
    {
      "cell_type": "code",
      "source": [
        "y_pred = np.where(y_log>0.5,1,0)"
      ],
      "metadata": {
        "trusted": true,
        "execution": {
          "iopub.status.busy": "2025-02-18T14:22:39.624754Z",
          "iopub.execute_input": "2025-02-18T14:22:39.625104Z",
          "iopub.status.idle": "2025-02-18T14:22:39.630378Z",
          "shell.execute_reply.started": "2025-02-18T14:22:39.625077Z",
          "shell.execute_reply": "2025-02-18T14:22:39.628912Z"
        },
        "id": "YzKteLqqcur-"
      },
      "outputs": [],
      "execution_count": null
    },
    {
      "cell_type": "code",
      "source": [
        "from sklearn.metrics import accuracy_score\n",
        "accuracy_score(y_test,y_pred)"
      ],
      "metadata": {
        "trusted": true,
        "execution": {
          "iopub.status.busy": "2025-02-18T14:23:41.794093Z",
          "iopub.execute_input": "2025-02-18T14:23:41.794483Z",
          "iopub.status.idle": "2025-02-18T14:23:41.803741Z",
          "shell.execute_reply.started": "2025-02-18T14:23:41.794452Z",
          "shell.execute_reply": "2025-02-18T14:23:41.802642Z"
        },
        "id": "3NFrcvtPcur-",
        "outputId": "4ce99a46-deb1-400a-e49a-cbf0a2bc78af"
      },
      "outputs": [
        {
          "execution_count": 44,
          "output_type": "execute_result",
          "data": {
            "text/plain": "0.824"
          },
          "metadata": {}
        }
      ],
      "execution_count": null
    },
    {
      "cell_type": "code",
      "source": [],
      "metadata": {
        "trusted": true,
        "id": "Stdo3XsAcur_"
      },
      "outputs": [],
      "execution_count": null
    },
    {
      "cell_type": "code",
      "source": [],
      "metadata": {
        "trusted": true,
        "id": "Ggwu6-5Fcur_"
      },
      "outputs": [],
      "execution_count": null
    }
  ]
}